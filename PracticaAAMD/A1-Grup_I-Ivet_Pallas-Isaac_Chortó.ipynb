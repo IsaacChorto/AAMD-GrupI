{
 "cells": [
  {
   "cell_type": "code",
   "execution_count": null,
   "id": "a6fe0aff-e2b3-47c3-a23c-cd3c959f1ca9",
   "metadata": {},
   "outputs": [],
   "source": [
    "# PRACTICA 1 - Aprenentatge Supervisat\n",
    "# AAMD - GEI 2024-25\n",
    "\n",
    "# --------------------------------------------------------\n",
    "# 🔹 0. Imports bàsics\n",
    "import pandas as pd\n",
    "import numpy as np\n",
    "import matplotlib.pyplot as plt\n",
    "import seaborn as sns\n",
    "from sklearn.preprocessing import StandardScaler, MinMaxScaler\n",
    "from sklearn.model_selection import train_test_split, cross_val_score, GridSearchCV\n",
    "from sklearn.linear_model import LinearRegression, LogisticRegression\n",
    "from sklearn.neighbors import KNeighborsRegressor\n",
    "from sklearn.svm import SVC\n",
    "from sklearn.neural_network import MLPRegressor, MLPClassifier\n",
    "from sklearn.metrics import mean_absolute_percentage_error, accuracy_score, confusion_matrix, roc_curve, roc_auc_score\n"
   ]
  },
  {
   "cell_type": "code",
   "execution_count": null,
   "id": "a618e856-9596-4ab8-9324-881c2b125e62",
   "metadata": {},
   "outputs": [],
   "source": [
    "# --------------------------------------------------------\n",
    "# 🔹 1. Lectura de dades\n",
    "df_train = pd.read_csv(\"diamonds-train.csv\")\n",
    "df_test = pd.read_csv(\"diamonds-test.csv\")\n",
    "\n",
    "print(df_train.shape)\n",
    "df_train.head()\n"
   ]
  },
  {
   "cell_type": "code",
   "execution_count": null,
   "id": "9f327836-2b27-4f1c-8ee7-28b27a14a7e1",
   "metadata": {},
   "outputs": [],
   "source": [
    "# --------------------------------------------------------\n",
    "# 🔹 2. Preprocessament\n",
    "# a. Detecció de valors no físics\n",
    "# b. Detecció d'outliers amb boxplots, histogrames, scatter plots\n",
    "\n",
    "# c. Taula d'outliers amb raons i tractament (eliminació o correcció)\n",
    "# d. Conversió d'atributs categòrics ordinals a valors numèrics\n",
    "\n",
    "# e. Estandardització de les variables (excepte x,y,z,price)\n",
    "# f. Escalat conjunt de x,y,z entre [-1, 1]\n",
    "# g. Transformació logarítmica del preu + escalar entre [0.1, 0.9]\n",
    "# h. Creació del nou atribut binari 'high_price'\n"
   ]
  },
  {
   "cell_type": "code",
   "execution_count": null,
   "id": "1c9ca870-80ae-46be-b497-e0eaab48a421",
   "metadata": {},
   "outputs": [],
   "source": [
    "# --------------------------------------------------------\n",
    "# 🔹 3. Predicció del preu (log_price escalat)\n",
    "# Regressió Multilineal\n",
    "# KNN\n",
    "# Xarxa Neuronal (MLPRegressor)\n",
    "\n",
    "# Cross-validation per cada model (usant GridSearchCV o validació manual)\n",
    "# Càlcul de MAPE sobre conjunt de test\n",
    "\n",
    "# Prediccions i scatter plots reals vs predits\n",
    "# Conclusions\n"
   ]
  },
  {
   "cell_type": "code",
   "execution_count": null,
   "id": "8e34b89a-fcbc-4fc5-a6b4-e6b004aa0e3c",
   "metadata": {},
   "outputs": [],
   "source": [
    "# --------------------------------------------------------\n",
    "# 🔹 4. Classificació del preu (high_price)\n",
    "# Regressió logística\n",
    "# SVM\n",
    "# Xarxa neuronal (MLPClassifier)\n",
    "\n",
    "# Cross-validation i avaluació (accuracy, sensitivity, specificity)\n",
    "# ROC i AUC per LR i MLNN\n",
    "\n",
    "# Prediccions al test set i comparació\n",
    "# Conclusions finals\n"
   ]
  }
 ],
 "metadata": {
  "kernelspec": {
   "display_name": "Python 3 (ipykernel)",
   "language": "python",
   "name": "python3"
  },
  "language_info": {
   "codemirror_mode": {
    "name": "ipython",
    "version": 3
   },
   "file_extension": ".py",
   "mimetype": "text/x-python",
   "name": "python",
   "nbconvert_exporter": "python",
   "pygments_lexer": "ipython3",
   "version": "3.11.6"
  }
 },
 "nbformat": 4,
 "nbformat_minor": 5
}
